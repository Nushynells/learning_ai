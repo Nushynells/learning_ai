{
 "cells": [
  {
   "cell_type": "markdown",
   "metadata": {},
   "source": [
    "### Example 1: Primitive data structures"
   ]
  },
  {
   "cell_type": "code",
   "execution_count": 7,
   "metadata": {},
   "outputs": [
    {
     "name": "stdout",
     "output_type": "stream",
     "text": [
      "The year value is: 2019\n",
      "The pi value is: 3.14\n",
      "The program version value is: Python 3.7 \n",
      "The file exists value is: True\n"
     ]
    }
   ],
   "source": [
    "def main():\n",
    "# integer variable\n",
    " year = 2019\n",
    " print(\"The year value is: {}\".format(year))\n",
    "\n",
    "# float variable\n",
    " pi = 3.14\n",
    " print(\"The pi value is: {}\".format(pi))\n",
    "\n",
    "# string variable\n",
    " program_version = \"Python 3.7 \"\n",
    " print(\"The program version value is: {}\".format(program_version))\n",
    "\n",
    "# boolean variable\n",
    " file_exists = True\n",
    " print(\"The file exists value is: {}\".format(file_exists))\n",
    "\n",
    "if __name__ == '__main__':\n",
    " main()"
   ]
  },
  {
   "cell_type": "markdown",
   "metadata": {},
   "source": [
    "### Example 2: Non- Primitive data structures"
   ]
  },
  {
   "cell_type": "code",
   "execution_count": 5,
   "metadata": {},
   "outputs": [
    {
     "name": "stdout",
     "output_type": "stream",
     "text": [
      "An example of a list is: [1, 2, 3, 'a', 'b', 'c']\n",
      "An example of a tuple is: (1, 2, 3, 'a', 'b', 'c')\n",
      "An example of a dictionary is: {1: 'a', 2: 'b', 3: 'c'}\n",
      "An example of a set is: {1, 2, 3, 4, 5}\n",
      "An example of a frozenset is: frozenset({1, 2, 3, 4, 5})\n"
     ]
    }
   ],
   "source": [
    "def main():\n",
    "\n",
    " list_example = [1, 2, 3, \"a\", \"b\", \"c\"]\n",
    " print(\"An example of a list is: {}\".format(list_example))\n",
    "\n",
    " tuple_example = (1, 2, 3, \"a\", \"b\", \"c\")\n",
    " print(\"An example of a tuple is: {}\".format(tuple_example))\n",
    "\n",
    " dictionary_example = {1:\"a\", 2:\"b\", 3:\"c\"}\n",
    " print(\"An example of a dictionary is: {}\".format(dictionary_example))\n",
    "\n",
    " set_example = set([1, 2, 3, 4, 5])\n",
    " print(\"An example of a set is: {}\".format(set_example))\n",
    "\n",
    " frozenset_example = frozenset([1, 2, 3, 4, 5])\n",
    " print(\"An example of a frozenset is: {}\".format(frozenset_example))\n",
    "\n",
    "if __name__ == '__main__':\n",
    " main()\n"
   ]
  },
  {
   "cell_type": "markdown",
   "metadata": {},
   "source": [
    "### Example 3: String Object manipulation"
   ]
  },
  {
   "cell_type": "code",
   "execution_count": 8,
   "metadata": {},
   "outputs": [
    {
     "name": "stdout",
     "output_type": "stream",
     "text": [
      "python\n",
      "n\n"
     ]
    },
    {
     "ename": "TypeError",
     "evalue": "'str' object does not support item assignment",
     "output_type": "error",
     "traceback": [
      "\u001b[1;31m---------------------------------------------------------------------------\u001b[0m",
      "\u001b[1;31mTypeError\u001b[0m                                 Traceback (most recent call last)",
      "\u001b[1;32m<ipython-input-8-c2cc3133005d>\u001b[0m in \u001b[0;36m<module>\u001b[1;34m\u001b[0m\n\u001b[0;32m      9\u001b[0m  \u001b[0mprint\u001b[0m\u001b[1;33m(\u001b[0m\u001b[0mstring_value\u001b[0m\u001b[1;33m[\u001b[0m\u001b[1;36m5\u001b[0m\u001b[1;33m]\u001b[0m\u001b[1;33m)\u001b[0m\u001b[1;33m\u001b[0m\u001b[1;33m\u001b[0m\u001b[0m\n\u001b[0;32m     10\u001b[0m \u001b[1;32mif\u001b[0m \u001b[0m__name__\u001b[0m \u001b[1;33m==\u001b[0m \u001b[1;34m'__main__'\u001b[0m\u001b[1;33m:\u001b[0m\u001b[1;33m\u001b[0m\u001b[1;33m\u001b[0m\u001b[0m\n\u001b[1;32m---> 11\u001b[1;33m  \u001b[0mmain\u001b[0m\u001b[1;33m(\u001b[0m\u001b[1;33m)\u001b[0m\u001b[1;33m\u001b[0m\u001b[1;33m\u001b[0m\u001b[0m\n\u001b[0m",
      "\u001b[1;32m<ipython-input-8-c2cc3133005d>\u001b[0m in \u001b[0;36mmain\u001b[1;34m()\u001b[0m\n\u001b[0;32m      6\u001b[0m \u001b[1;33m\u001b[0m\u001b[0m\n\u001b[0;32m      7\u001b[0m  \u001b[1;31m# an error occurred. string_value[5] can't be changed\u001b[0m\u001b[1;33m\u001b[0m\u001b[1;33m\u001b[0m\u001b[1;33m\u001b[0m\u001b[0m\n\u001b[1;32m----> 8\u001b[1;33m  \u001b[0mstring_value\u001b[0m\u001b[1;33m[\u001b[0m\u001b[1;36m5\u001b[0m\u001b[1;33m]\u001b[0m \u001b[1;33m=\u001b[0m \u001b[1;34m\"m\"\u001b[0m\u001b[1;33m\u001b[0m\u001b[1;33m\u001b[0m\u001b[0m\n\u001b[0m\u001b[0;32m      9\u001b[0m  \u001b[0mprint\u001b[0m\u001b[1;33m(\u001b[0m\u001b[0mstring_value\u001b[0m\u001b[1;33m[\u001b[0m\u001b[1;36m5\u001b[0m\u001b[1;33m]\u001b[0m\u001b[1;33m)\u001b[0m\u001b[1;33m\u001b[0m\u001b[1;33m\u001b[0m\u001b[0m\n\u001b[0;32m     10\u001b[0m \u001b[1;32mif\u001b[0m \u001b[0m__name__\u001b[0m \u001b[1;33m==\u001b[0m \u001b[1;34m'__main__'\u001b[0m\u001b[1;33m:\u001b[0m\u001b[1;33m\u001b[0m\u001b[1;33m\u001b[0m\u001b[0m\n",
      "\u001b[1;31mTypeError\u001b[0m: 'str' object does not support item assignment"
     ]
    }
   ],
   "source": [
    "def main():\n",
    " # strings are immutable objects\n",
    " string_value = \"python\"\n",
    " print(string_value)\n",
    " print(string_value[5])\n",
    "\n",
    " # an error occurred. string_value[5] can't be changed\n",
    " string_value[5] = \"m\"\n",
    " print(string_value[5])\n",
    "if __name__ == '__main__':\n",
    " main()\n"
   ]
  },
  {
   "cell_type": "markdown",
   "metadata": {},
   "source": [
    "### Example 4: String manipulation"
   ]
  },
  {
   "cell_type": "code",
   "execution_count": 12,
   "metadata": {},
   "outputs": [
    {
     "ename": "IndentationError",
     "evalue": "unexpected indent (<ipython-input-12-f13b38119a40>, line 9)",
     "output_type": "error",
     "traceback": [
      "\u001b[1;36m  File \u001b[1;32m\"<ipython-input-12-f13b38119a40>\"\u001b[1;36m, line \u001b[1;32m9\u001b[0m\n\u001b[1;33m    string_2 = \"\".join((\"Python is becoming the worlds most \" , \"popular programming language today\"))\u001b[0m\n\u001b[1;37m    ^\u001b[0m\n\u001b[1;31mIndentationError\u001b[0m\u001b[1;31m:\u001b[0m unexpected indent\n"
     ]
    }
   ],
   "source": [
    "def main():\n",
    "# string length using len() method\n",
    " string_0 = \"Python is becoming the worlds most popular programming language today\" \n",
    "print(len(string_0))\n",
    "# string concatenation using + sign\n",
    "string_1 = \"Python is becoming the worlds most \" + \"popular programming language today\" \n",
    "print(string_1)\n",
    "# string concatenation using join() method\n",
    " string_2 = \"\".join((\"Python is becoming the worlds most \" , \"popular programming language today\"))\n",
    "    print(string_2)\n",
    "\n",
    "# substrings (or splices) using [start, start + length]\n",
    "# get 'Python' word from the start\n",
    " string_3 = string_0[0:6]\n",
    "    print(string_3)\n",
    "# remove 'Python' word from the start\n",
    " string_4 = string_0[7:]\n",
    "    print(string_4)\n",
    "# remove 'today' word from the end\n",
    " string_5 = string_0[:-6]\n",
    "    print(string_5)\n",
    "# select 'programming' word only\n",
    " string_6 = string_0[43:54]\n",
    "    print(string_6)\n",
    "# count how many times letter 'a' is in string\n",
    " string_7 = string_0.count(\"a\")\n",
    "    print(string_7)\n",
    "# find what position 'language' word starts\n",
    " string_8 = string_0.find(\"language\")\n",
    "    print(string_8)\n",
    "# remove any whitespace from the start to end\n",
    " string_9 = string_0.strip()\n",
    "    print(string_9)\n",
    "# convert to lower case\n",
    " string_10 = string_0.lower()\n",
    "    print(string_10)\n",
    "# convert to upper case\n",
    " string_11 = string_0.upper()\n",
    "    print(string_11)\n",
    "# replace 'Python' word with 'Java'\n",
    " string_12 = string_0.replace(\"Python\", \"Java\")\n",
    "    print(string_12)\n",
    "# split string into substring in 'most' word\n",
    " string_13 = string_0.split(\"most\")\n",
    "    print(string_13)\n",
    "# check if 'popular' word is in string\n",
    " string_14 = \"popular\" in string_0\n",
    "    print(string_14)\n",
    "# check if 'POPULAR' word is in string\n",
    " string_15 = \"POPULAR\" not in string_0\n",
    "    print(string_15)\n",
    "    \n",
    "if __name__ == '__main__':\n",
    "    main()"
   ]
  },
  {
   "cell_type": "markdown",
   "metadata": {},
   "source": [
    "### User defined function"
   ]
  },
  {
   "cell_type": "code",
   "execution_count": null,
   "metadata": {},
   "outputs": [],
   "source": [
    "def function_name(parameters):\n",
    " \"\"\"\n",
    " function comments or docstring (function task, parameters definition, etc.)\n",
    " \"\"\"\n",
    " <statement>\n",
    " ...\n",
    " return <expression>\n"
   ]
  },
  {
   "cell_type": "code",
   "execution_count": 13,
   "metadata": {},
   "outputs": [
    {
     "name": "stdout",
     "output_type": "stream",
     "text": [
      "The message is: I like Python programming language\n"
     ]
    }
   ],
   "source": [
    "def print_message(message):\n",
    " print(\"The message is: {}\".format(message))\n",
    "def main():\n",
    " my_message = \"I like Python programming language\"\n",
    " # calling function\n",
    " print_message(my_message)\n",
    "\n",
    "if __name__ == '__main__':\n",
    " main()"
   ]
  },
  {
   "cell_type": "code",
   "execution_count": 15,
   "metadata": {},
   "outputs": [
    {
     "name": "stdout",
     "output_type": "stream",
     "text": [
      "The result is: 300\n"
     ]
    }
   ],
   "source": [
    "def addition_two_number(number_1, number_2):\n",
    " \"\"\"\n",
    " calculate the addition of two numbers\n",
    " :param number_1: first number\n",
    " :param number_2: second number\n",
    " :return: sum of first number plus\n",
    " \"\"\"\n",
    " number_addition = number_1 + number_2\n",
    " return(number_addition)\n",
    "\n",
    "number_1 = 100\n",
    "number_2 = 200\n",
    "result = addition_two_number(number_1, number_2)\n",
    "print(\"The result is: {}\".format(result))\n"
   ]
  },
  {
   "cell_type": "markdown",
   "metadata": {},
   "source": [
    "### Function Default Parameters"
   ]
  },
  {
   "cell_type": "code",
   "execution_count": 16,
   "metadata": {},
   "outputs": [
    {
     "name": "stdout",
     "output_type": "stream",
     "text": [
      "The total payment is: 200\n"
     ]
    }
   ],
   "source": [
    "# the “payment_day()” function calculates the total payment by day when the payment by hour is fixed at 25\n",
    "\n",
    "def payment_day(working_hours, payment_hour=25):\n",
    " '''\n",
    " calculate payment by day\n",
    " :param working_hours: amount of working hours\n",
    " :param payment_hour: payment by hour\n",
    " :return: payment by day\n",
    " '''\n",
    " total_payment = working_hours * payment_hour\n",
    " return total_payment\n",
    "\n",
    "\n",
    "working_hours = 8\n",
    "# calling function\n",
    "total_payment = payment_day(working_hours)\n",
    "print(\"The total payment is: {}\".format(total_payment))"
   ]
  },
  {
   "cell_type": "code",
   "execution_count": 34,
   "metadata": {},
   "outputs": [
    {
     "name": "stdout",
     "output_type": "stream",
     "text": [
      "The total payment is: 0\n",
      "The total payment is: 200\n"
     ]
    }
   ],
   "source": [
    "def payment_day(working_hours, payment_hour=None): \n",
    "    '''\n",
    "    calculate payment by day\n",
    "    :param working_hours: amount of working hours\n",
    "    :param payment_hour: payment by hour\n",
    "    :return: payment by day\n",
    "    '''\n",
    "    if payment_hour is not None:\n",
    "        total_payment = working_hours * payment_hour\n",
    "    else:\n",
    "        total_payment = 0\n",
    "    return total_payment\n",
    "\n",
    "#example: because payment hour is not, total payment will always be zero\n",
    "\n",
    "working_hours = 8\n",
    "total_payment = payment_day(working_hours)\n",
    "print(\"The total payment is: {}\".format(total_payment))\n",
    "\n",
    "#example payment hour is defined\n",
    "\n",
    "working_hours = 8\n",
    "payment_hour = 25\n",
    "total_payment = payment_day(working_hours, payment_hour)\n",
    "print(\"The total payment is: {}\".format(total_payment))\n"
   ]
  },
  {
   "cell_type": "markdown",
   "metadata": {},
   "source": [
    "### Variable number of parameters"
   ]
  },
  {
   "cell_type": "code",
   "execution_count": 35,
   "metadata": {},
   "outputs": [
    {
     "name": "stdout",
     "output_type": "stream",
     "text": [
      "result_1: 15\n",
      "result_2: 55\n"
     ]
    }
   ],
   "source": [
    "def sum_number(*args):\n",
    " total_sum = sum(args)\n",
    " return total_sum\n",
    "def main():\n",
    " result_1 = sum_number(1, 2, 3, 4, 5)\n",
    " print(\"result_1: {}\".format(result_1))\n",
    "\n",
    " result_2 = sum_number(1, 2, 3, 4, 5, 6, 7, 8, 9, 10)\n",
    " print(\"result_2: {}\".format(result_2))\n",
    "\n",
    "if __name__ == '__main__':\n",
    " main()\n"
   ]
  },
  {
   "cell_type": "code",
   "execution_count": 37,
   "metadata": {},
   "outputs": [
    {
     "name": "stdout",
     "output_type": "stream",
     "text": [
      "The value of value1: 1\n",
      "The value of value2: Python\n",
      "The value of value3: False\n",
      "The value of value4: 3.14\n"
     ]
    }
   ],
   "source": [
    "def print_dictionary(**kwargs):\n",
    "    for key, value in kwargs.items():\n",
    "        print(\"The value of {}: {}\".format(key, value))\n",
    "\n",
    "def main():\n",
    "    print_dictionary(value1=1, value2=\"Python\", value3=False, value4=3.14)\n",
    "\n",
    "if __name__ == '__main__':\n",
    "    main()\n"
   ]
  },
  {
   "cell_type": "markdown",
   "metadata": {},
   "source": [
    "### Variable Scopes"
   ]
  },
  {
   "cell_type": "code",
   "execution_count": 42,
   "metadata": {},
   "outputs": [
    {
     "name": "stdout",
     "output_type": "stream",
     "text": [
      "The value double in main() is: 100\n",
      "The x global after main() is: 100\n"
     ]
    }
   ],
   "source": [
    "x_global = 100\n",
    "def calculate_double(x):\n",
    "    x_local = x * 2\n",
    "    return x_local\n",
    "\n",
    "def main():\n",
    "    value = 10\n",
    "    value_double = calculate_double(value)\n",
    "    print(\"The value double in main() is: {}\".format(x_global))\n",
    "    # print(\"The x local in main() is: {}\".format(x_local))\n",
    "\n",
    "if __name__ == '__main__':\n",
    "    main()\n",
    "    print(\"The x global after main() is: {}\".format(x_global))"
   ]
  },
  {
   "cell_type": "markdown",
   "metadata": {},
   "source": [
    "### Nested Functions"
   ]
  },
  {
   "cell_type": "code",
   "execution_count": 4,
   "metadata": {},
   "outputs": [
    {
     "name": "stdout",
     "output_type": "stream",
     "text": [
      "The x value inside inner function is: 5\n",
      "The x local value inside inner function is:10\n",
      "The x value outside inner function is: 5\n"
     ]
    }
   ],
   "source": [
    "def outer_function(x):\n",
    "    ''' enclosing function\n",
    "    '''\n",
    "    def inner_function():\n",
    "        '''\n",
    "        nested function\n",
    "        '''\n",
    "        #nonlocal x\n",
    "        x = 5\n",
    "        print(\"The x value inside inner function is: {}\".format(x))\n",
    "        x_local = x * 2\n",
    "        print(\"The x local value inside inner function is:{}\".format(x_local))\n",
    "        \n",
    "    inner_function()\n",
    "    print(\"The x value outside inner function is: {}\".format(x))\n",
    "    \n",
    "def main():\n",
    "    value = 10\n",
    "    value_double = outer_function(value)\n",
    "    \n",
    "if __name__ == '__main__':\n",
    "    main()\n"
   ]
  },
  {
   "cell_type": "markdown",
   "metadata": {},
   "source": [
    "### Lambda funtions"
   ]
  },
  {
   "cell_type": "code",
   "execution_count": 5,
   "metadata": {},
   "outputs": [
    {
     "name": "stdout",
     "output_type": "stream",
     "text": [
      "The x value is: 20\n"
     ]
    }
   ],
   "source": [
    "def main():\n",
    "    function_double = lambda x : x * 2\n",
    "    x = 10\n",
    "    print(\"The x value is: {}\".format(function_double(x)))\n",
    "\n",
    "if __name__ == '__main__':\n",
    "    main()"
   ]
  },
  {
   "cell_type": "markdown",
   "metadata": {},
   "source": [
    "## Flow Control"
   ]
  },
  {
   "cell_type": "markdown",
   "metadata": {},
   "source": [
    "### Conditional Statements"
   ]
  },
  {
   "cell_type": "code",
   "execution_count": 8,
   "metadata": {},
   "outputs": [
    {
     "name": "stdout",
     "output_type": "stream",
     "text": [
      "x > y is true\n"
     ]
    }
   ],
   "source": [
    "def main():\n",
    "    x = 100\n",
    "    y = 20\n",
    "    if x > y:\n",
    "        print(\"x > y is true\")\n",
    "\n",
    "if __name__ == '__main__':\n",
    "    main()\n"
   ]
  },
  {
   "cell_type": "code",
   "execution_count": 32,
   "metadata": {},
   "outputs": [
    {
     "name": "stdout",
     "output_type": "stream",
     "text": [
      "a < b is false\n"
     ]
    }
   ],
   "source": [
    "def main():\n",
    "    a = 20\n",
    "    b = 10\n",
    "    if a < b:\n",
    "        print(\"a < b is true\")\n",
    "    if a > b:\n",
    "        print(\"a < b is false\")\n",
    "\n",
    "if __name__ == '__main__':\n",
    "    main()"
   ]
  },
  {
   "cell_type": "markdown",
   "metadata": {},
   "source": [
    "### elif"
   ]
  },
  {
   "cell_type": "code",
   "execution_count": 30,
   "metadata": {},
   "outputs": [
    {
     "name": "stdout",
     "output_type": "stream",
     "text": [
      "x = y is true\n"
     ]
    }
   ],
   "source": [
    "def main():\n",
    "    x = 20\n",
    "    y = 20\n",
    "    if x < y:\n",
    "        print(\"x < y is true\")\n",
    "    elif x > y:\n",
    "        print(\"x > y is true\")\n",
    "    elif x == y:\n",
    "        print(\"x = y is true\")\n",
    "    else:\n",
    "        print(\"there is no condition for x and y\")\n",
    "if __name__ == '__main__':\n",
    "    main()"
   ]
  },
  {
   "cell_type": "markdown",
   "metadata": {},
   "source": [
    "### loop"
   ]
  },
  {
   "cell_type": "code",
   "execution_count": 24,
   "metadata": {},
   "outputs": [
    {
     "name": "stdout",
     "output_type": "stream",
     "text": [
      "The eBook is: python\n",
      "The eBook is: perl\n",
      "The eBook is: ruby\n"
     ]
    }
   ],
   "source": [
    "def main():\n",
    "    ebooks = [\"python\", \"perl\", \"ruby\"]\n",
    "    for item in ebooks:\n",
    "        print(\"The eBook is: {}\".format(item))\n",
    "if __name__ == '__main__':\n",
    "    main()\n"
   ]
  },
  {
   "cell_type": "markdown",
   "metadata": {},
   "source": [
    "### range"
   ]
  },
  {
   "cell_type": "code",
   "execution_count": 29,
   "metadata": {},
   "outputs": [
    {
     "name": "stdout",
     "output_type": "stream",
     "text": [
      "6\n",
      "7\n",
      "8\n",
      "9\n",
      "10\n"
     ]
    }
   ],
   "source": [
    "def main():\n",
    "    for j in range(6,11):\n",
    "        print(j)\n",
    "if __name__ == '__main__':\n",
    "    main()"
   ]
  },
  {
   "cell_type": "markdown",
   "metadata": {},
   "source": [
    "### while"
   ]
  },
  {
   "cell_type": "code",
   "execution_count": 34,
   "metadata": {},
   "outputs": [
    {
     "name": "stdout",
     "output_type": "stream",
     "text": [
      "python\n",
      "perl\n",
      "java\n",
      "c++\n"
     ]
    }
   ],
   "source": [
    "def main():\n",
    "    ebooks = [\"python\", \"perl\",\"java\",\"c++\",\"ruby\", \"rails\", \"docker\"]\n",
    "    i = 0\n",
    "    while ebooks[i] != \"ruby\":\n",
    "        print(ebooks[i])\n",
    "        i += 1\n",
    "        \n",
    "if __name__ == '__main__':\n",
    "    main()\n"
   ]
  },
  {
   "cell_type": "markdown",
   "metadata": {},
   "source": [
    "### break"
   ]
  },
  {
   "cell_type": "code",
   "execution_count": 36,
   "metadata": {},
   "outputs": [
    {
     "name": "stdout",
     "output_type": "stream",
     "text": [
      "python\n",
      "perl\n",
      "java\n",
      "c++\n"
     ]
    }
   ],
   "source": [
    "def main():\n",
    "    ebooks = [\"python\", \"perl\",\"java\",\"c++\",\"ruby\", \"rails\", \"docker\"]\n",
    "    for item in ebooks:\n",
    "        print(item)\n",
    "        if item == \"c++\":\n",
    "            break\n",
    "if __name__ == '__main__':\n",
    "    main()"
   ]
  },
  {
   "cell_type": "markdown",
   "metadata": {},
   "source": [
    "### continue"
   ]
  },
  {
   "cell_type": "code",
   "execution_count": 37,
   "metadata": {},
   "outputs": [
    {
     "name": "stdout",
     "output_type": "stream",
     "text": [
      "python\n",
      "perl\n",
      "java\n",
      "c++\n"
     ]
    }
   ],
   "source": [
    "def main():\n",
    "    ebooks = [\"python\", \"perl\",\"java\",\"c++\",\"ruby\", \"rails\", \"docker\"]\n",
    "    for item in ebooks:\n",
    "        if item == \"ruby\":\n",
    "            break\n",
    "        else:\n",
    "            print(item)\n",
    "            continue\n",
    "    \n",
    "if __name__ == '__main__':\n",
    "    main()"
   ]
  },
  {
   "cell_type": "markdown",
   "metadata": {},
   "source": [
    "### pass"
   ]
  },
  {
   "cell_type": "code",
   "execution_count": 43,
   "metadata": {},
   "outputs": [
    {
     "name": "stdout",
     "output_type": "stream",
     "text": [
      "python\n",
      "perl\n",
      "java\n",
      "c++\n"
     ]
    }
   ],
   "source": [
    "def print_no_one(value):\n",
    "    if value == 5:\n",
    "        pass\n",
    "    else:\n",
    "        print(value)\n",
    "\n",
    "if __name__ == '__main__':\n",
    "    main()\n",
    "#If the value is equal to 1, nothing will happen, but if the value is not equal 1, \n",
    "#it willbe printed."
   ]
  },
  {
   "cell_type": "markdown",
   "metadata": {},
   "source": [
    "## Input/Output"
   ]
  },
  {
   "cell_type": "markdown",
   "metadata": {},
   "source": [
    "### funtions"
   ]
  },
  {
   "cell_type": "code",
   "execution_count": 46,
   "metadata": {},
   "outputs": [
    {
     "name": "stdout",
     "output_type": "stream",
     "text": [
      "Enter your zip code: 90210\n",
      "The entered zip code is: 90210\n"
     ]
    }
   ],
   "source": [
    "def main():\n",
    "    zip_code = input(\"Enter your zip code: \")\n",
    "    print(\"The entered zip code is: {}\".format(zip_code))\n",
    "\n",
    "if __name__ == '__main__':\n",
    "    main()"
   ]
  },
  {
   "cell_type": "markdown",
   "metadata": {},
   "source": [
    "### file IO"
   ]
  },
  {
   "cell_type": "code",
   "execution_count": 50,
   "metadata": {},
   "outputs": [
    {
     "name": "stdout",
     "output_type": "stream",
     "text": [
      "Python is a great language.\n",
      "Sure!\n",
      "Python is a great language.\n",
      "Sure!\n",
      " \n",
      "Am loving this\n",
      "\n"
     ]
    }
   ],
   "source": [
    "# r- read, a- append, w- write\n",
    "def main():\n",
    "    #file_test = open(\"test.txt\", \"w\")\n",
    "    #file_test = open(\"test.txt\", \"a\")\n",
    "    file_test = open(\"test.txt\", \"r\")\n",
    "    #file_test.write( \"Python is a great language.\\nSure!\\n \\nAm loving this\\n\")\n",
    "    #file_test.close()\n",
    "    print(file_test.read())\n",
    "\n",
    "if __name__ == '__main__':\n",
    "    main()"
   ]
  },
  {
   "cell_type": "markdown",
   "metadata": {},
   "source": [
    "### for- loop file, line by line"
   ]
  },
  {
   "cell_type": "code",
   "execution_count": 53,
   "metadata": {},
   "outputs": [
    {
     "name": "stdout",
     "output_type": "stream",
     "text": [
      "Python is a great language.\n",
      "\n",
      "Sure!\n",
      "\n",
      "Python is a great language.\n",
      "\n",
      "Sure!\n",
      "\n",
      " \n",
      "\n",
      "Am loving this\n",
      "\n"
     ]
    }
   ],
   "source": [
    "def main():\n",
    "    file_test = open(\"test.txt\", \"r\")\n",
    "    for item in file_test:\n",
    "        print(item)\n",
    "if __name__ == '__main__':\n",
    "    main()"
   ]
  },
  {
   "cell_type": "markdown",
   "metadata": {},
   "source": [
    "### read a given line from file"
   ]
  },
  {
   "cell_type": "code",
   "execution_count": 56,
   "metadata": {},
   "outputs": [
    {
     "name": "stdout",
     "output_type": "stream",
     "text": [
      "Python\n"
     ]
    }
   ],
   "source": [
    "def main():\n",
    "    file_test = open(\"test.txt\", \"r\")\n",
    "    lines = file_test.readline(6)\n",
    "    print(lines)\n",
    "if __name__ == '__main__':\n",
    "    main()"
   ]
  },
  {
   "cell_type": "markdown",
   "metadata": {},
   "source": [
    "### path () : open a file in the given file, use /"
   ]
  },
  {
   "cell_type": "code",
   "execution_count": 3,
   "metadata": {},
   "outputs": [
    {
     "data": {
      "application/javascript": [
       "\n",
       "        if (window._pyforest_update_imports_cell) { window._pyforest_update_imports_cell('from pathlib import Path'); }\n",
       "    "
      ],
      "text/plain": [
       "<IPython.core.display.Javascript object>"
      ]
     },
     "metadata": {},
     "output_type": "display_data"
    },
    {
     "name": "stdout",
     "output_type": "stream",
     "text": [
      "Python is a great language.\n",
      "\n",
      "Sure!\n",
      "\n",
      "Python is a great language.\n",
      "\n",
      "Sure!\n",
      "\n",
      " \n",
      "\n",
      "Am loving this\n",
      "\n"
     ]
    }
   ],
   "source": [
    "def main():\n",
    "    folder_path = Path(r\"C:/Users/mnyad/Documents/Msc in AI/Python/Untitled Folder\")\n",
    "    file_name = \"test.txt\"\n",
    "    file_path_name = folder_path / file_name\n",
    "    file_test = open(file_path_name, \"r\")\n",
    "    for item in file_test:\n",
    "        print(item)\n",
    "if __name__ == '__main__':\n",
    "    main()"
   ]
  },
  {
   "cell_type": "code",
   "execution_count": 4,
   "metadata": {},
   "outputs": [
    {
     "data": {
      "application/javascript": [
       "\n",
       "        if (window._pyforest_update_imports_cell) { window._pyforest_update_imports_cell('from pathlib import Path'); }\n",
       "    "
      ],
      "text/plain": [
       "<IPython.core.display.Javascript object>"
      ]
     },
     "metadata": {},
     "output_type": "display_data"
    },
    {
     "name": "stdout",
     "output_type": "stream",
     "text": [
      "Python is a great language.\n",
      "Sure!\n",
      "Python is a great language.\n",
      "Sure!\n",
      " \n",
      "Am loving this\n",
      "\n"
     ]
    }
   ],
   "source": [
    "#another way to read the file\n",
    "def main():\n",
    "    folder_path = Path(r\"C:/Users/mnyad/Documents/Msc in AI/Python/Untitled Folder\")\n",
    "    file_name = \"test.txt\"\n",
    "    file_path_name = folder_path / file_name\n",
    "    print(file_path_name.read_text())\n",
    "if __name__ == '__main__':\n",
    "    main()\n"
   ]
  },
  {
   "cell_type": "code",
   "execution_count": 11,
   "metadata": {},
   "outputs": [],
   "source": [
    "import pathlib"
   ]
  },
  {
   "cell_type": "code",
   "execution_count": 8,
   "metadata": {},
   "outputs": [],
   "source": [
    "import path"
   ]
  },
  {
   "cell_type": "code",
   "execution_count": 13,
   "metadata": {},
   "outputs": [
    {
     "data": {
      "application/javascript": [
       "\n",
       "        if (window._pyforest_update_imports_cell) { window._pyforest_update_imports_cell('from pathlib import Path'); }\n",
       "    "
      ],
      "text/plain": [
       "<IPython.core.display.Javascript object>"
      ]
     },
     "metadata": {},
     "output_type": "display_data"
    },
    {
     "name": "stdout",
     "output_type": "stream",
     "text": [
      "C:\\Users\\mnyad\\Documents\\Msc in AI\\Python\\Untitled Folder\\test.txt\n"
     ]
    }
   ],
   "source": [
    "# convert unix path to windows-formatted path\n",
    "def main():\n",
    "    folder_path = Path(r\"C:/Users/mnyad/Documents/Msc in AI/Python/Untitled Folder\")\n",
    "    file_name = \"test.txt\"\n",
    "    file_path_name = folder_path / file_name\n",
    "    path_on_windows = pathlib.PureWindowsPath(file_path_name)\n",
    "    print(path_on_windows)\n",
    "if __name__ == '__main__':\n",
    "    main()\n"
   ]
  },
  {
   "cell_type": "markdown",
   "metadata": {},
   "source": [
    "## Logging\n",
    "### Basic Configuration"
   ]
  },
  {
   "cell_type": "code",
   "execution_count": 14,
   "metadata": {},
   "outputs": [],
   "source": [
    "# How to create a simple warning message\n",
    "\n",
    "import logging\n",
    "\n",
    "def main():\n",
    "    logging.basicConfig(filename=\"app.log\", filemode=\"w\", format=\"%(name)s - %(levelname)s - %(message)s\")\n",
    "    logging.warning(\"This message gets logged as warning.\")\n",
    "\n",
    "if __name__ == '__main__':\n",
    "    main()"
   ]
  },
  {
   "cell_type": "markdown",
   "metadata": {},
   "source": [
    "### Logging variable data"
   ]
  },
  {
   "cell_type": "code",
   "execution_count": 17,
   "metadata": {},
   "outputs": [],
   "source": [
    "#import logging\n",
    "\n",
    "name = \"Python\"\n",
    "logging.error(f'{name} raised an error')\n"
   ]
  },
  {
   "cell_type": "markdown",
   "metadata": {},
   "source": [
    " ## Modules and Packages"
   ]
  },
  {
   "cell_type": "code",
   "execution_count": 23,
   "metadata": {},
   "outputs": [],
   "source": [
    "# File math.py\n",
    "\n",
    "pi=3.14159\n",
    "\n",
    "def area_of_circle(radius):\n",
    "    \"\"\"\n",
    "    calculate the area of a circle\n",
    "    :param radius: radius of a circle\n",
    "    :return: area of a circle\n",
    "    \"\"\"\n",
    "    area = pi * (radius ** 2)\n",
    "    return area"
   ]
  },
  {
   "cell_type": "code",
   "execution_count": 24,
   "metadata": {},
   "outputs": [
    {
     "name": "stdout",
     "output_type": "stream",
     "text": [
      "The area of the circle is: 12.56636\n"
     ]
    }
   ],
   "source": [
    "# File client.py\n",
    "\n",
    "#import math_library\n",
    "\n",
    "def main():\n",
    "    result = area_of_circle(2)\n",
    "    print(\"The area of the circle is: {}\".format(result))\n",
    "    \n",
    "if __name__ == '__main__':\n",
    "    main()"
   ]
  },
  {
   "cell_type": "code",
   "execution_count": null,
   "metadata": {},
   "outputs": [],
   "source": []
  },
  {
   "cell_type": "code",
   "execution_count": null,
   "metadata": {},
   "outputs": [],
   "source": []
  },
  {
   "cell_type": "code",
   "execution_count": null,
   "metadata": {},
   "outputs": [],
   "source": []
  }
 ],
 "metadata": {
  "kernelspec": {
   "display_name": "Python 3",
   "language": "python",
   "name": "python3"
  },
  "language_info": {
   "codemirror_mode": {
    "name": "ipython",
    "version": 3
   },
   "file_extension": ".py",
   "mimetype": "text/x-python",
   "name": "python",
   "nbconvert_exporter": "python",
   "pygments_lexer": "ipython3",
   "version": "3.8.3"
  }
 },
 "nbformat": 4,
 "nbformat_minor": 4
}
